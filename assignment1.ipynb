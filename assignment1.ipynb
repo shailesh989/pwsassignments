{
 "cells": [
  {
   "cell_type": "code",
   "execution_count": 14,
   "id": "ab00a30e-d029-441b-b786-6d0af5689503",
   "metadata": {},
   "outputs": [],
   "source": [
    "#Q1. Create one variable containing following type of data:\n",
    "#(i) string\n",
    "#(ii) list\n",
    "#(iii) float\n",
    "#(iv) tuple\n",
    "a= 'shailesh'\n",
    "b=[1,2,3,'ram','sham',25.5,True,(22,11,25)]\n",
    "c=22.5\n",
    "d=(55,25,36)"
   ]
  },
  {
   "cell_type": "code",
   "execution_count": 15,
   "id": "5300e744-9a43-460f-b43b-4bbae0c21a58",
   "metadata": {},
   "outputs": [
    {
     "data": {
      "text/plain": [
       "str"
      ]
     },
     "execution_count": 15,
     "metadata": {},
     "output_type": "execute_result"
    }
   ],
   "source": [
    "type(a)"
   ]
  },
  {
   "cell_type": "code",
   "execution_count": 16,
   "id": "8ccd7008-44dc-45c4-859a-a803278f8614",
   "metadata": {},
   "outputs": [
    {
     "data": {
      "text/plain": [
       "list"
      ]
     },
     "execution_count": 16,
     "metadata": {},
     "output_type": "execute_result"
    }
   ],
   "source": [
    "type(b)"
   ]
  },
  {
   "cell_type": "code",
   "execution_count": 17,
   "id": "a9188372-e336-4c2c-a556-62559991a3f8",
   "metadata": {},
   "outputs": [
    {
     "data": {
      "text/plain": [
       "float"
      ]
     },
     "execution_count": 17,
     "metadata": {},
     "output_type": "execute_result"
    }
   ],
   "source": [
    "type(c)"
   ]
  },
  {
   "cell_type": "code",
   "execution_count": 18,
   "id": "86304f11-c74f-4c80-a45a-40ae5ced0695",
   "metadata": {},
   "outputs": [
    {
     "data": {
      "text/plain": [
       "tuple"
      ]
     },
     "execution_count": 18,
     "metadata": {},
     "output_type": "execute_result"
    }
   ],
   "source": [
    "type(d)"
   ]
  },
  {
   "cell_type": "code",
   "execution_count": 32,
   "id": "43ffce25-169f-4ac5-8161-d23b04d46452",
   "metadata": {},
   "outputs": [],
   "source": [
    "#Q2. Given are some following variables containing data:find its type var1= ' '\n",
    "var1 = ' '\n",
    "var2 = '[ DS , ML , Python]'\n",
    "var3 =  ['DS' , 'ML', 'Python']\n",
    "var4 = 1."
   ]
  },
  {
   "cell_type": "code",
   "execution_count": 33,
   "id": "b6837e43-7bc8-4d2d-9241-ba4df25f9078",
   "metadata": {},
   "outputs": [
    {
     "data": {
      "text/plain": [
       "str"
      ]
     },
     "execution_count": 33,
     "metadata": {},
     "output_type": "execute_result"
    }
   ],
   "source": [
    "type(var1)"
   ]
  },
  {
   "cell_type": "code",
   "execution_count": 34,
   "id": "f1e899d2-b237-43c8-a33f-817238d51bee",
   "metadata": {},
   "outputs": [
    {
     "data": {
      "text/plain": [
       "str"
      ]
     },
     "execution_count": 34,
     "metadata": {},
     "output_type": "execute_result"
    }
   ],
   "source": [
    "type(var2)"
   ]
  },
  {
   "cell_type": "code",
   "execution_count": 35,
   "id": "8bcfe71c-c3fe-4f13-87a0-61273a9db25d",
   "metadata": {},
   "outputs": [
    {
     "data": {
      "text/plain": [
       "list"
      ]
     },
     "execution_count": 35,
     "metadata": {},
     "output_type": "execute_result"
    }
   ],
   "source": [
    "type(var3)"
   ]
  },
  {
   "cell_type": "code",
   "execution_count": 36,
   "id": "04bf7890-1097-4129-9493-83b29eeb0211",
   "metadata": {},
   "outputs": [
    {
     "data": {
      "text/plain": [
       "float"
      ]
     },
     "execution_count": 36,
     "metadata": {},
     "output_type": "execute_result"
    }
   ],
   "source": [
    "type(var4)"
   ]
  },
  {
   "cell_type": "code",
   "execution_count": 43,
   "id": "a0610952-f149-4d9a-a578-4728d6f2bb50",
   "metadata": {},
   "outputs": [],
   "source": [
    "#Q3. Explain the use of the following operators using an example:\n",
    "#(i)/ is use for division (arithmatic operations), ex\n",
    "#6/3\n",
    "#(ii) % is use for find percentage of number \n",
    "#80%25\n",
    "#(iii) // is use for divisibility pool\n",
    "#25//5\n",
    "#(iv) ** is use for find power of given number\n",
    "#2**8"
   ]
  },
  {
   "cell_type": "code",
   "execution_count": 44,
   "id": "281a4fdd-ebaa-4257-b59d-e83403ddbf0e",
   "metadata": {},
   "outputs": [
    {
     "data": {
      "text/plain": [
       "2.0"
      ]
     },
     "execution_count": 44,
     "metadata": {},
     "output_type": "execute_result"
    }
   ],
   "source": [
    "6/3"
   ]
  },
  {
   "cell_type": "code",
   "execution_count": 45,
   "id": "6a8f33be-b29b-40e2-89d8-6a4384b2c14f",
   "metadata": {},
   "outputs": [
    {
     "data": {
      "text/plain": [
       "5"
      ]
     },
     "execution_count": 45,
     "metadata": {},
     "output_type": "execute_result"
    }
   ],
   "source": [
    "80%25"
   ]
  },
  {
   "cell_type": "code",
   "execution_count": 46,
   "id": "1e78549c-3690-4949-b0ff-a8fdd8cea9c3",
   "metadata": {},
   "outputs": [
    {
     "data": {
      "text/plain": [
       "5"
      ]
     },
     "execution_count": 46,
     "metadata": {},
     "output_type": "execute_result"
    }
   ],
   "source": [
    "25//5"
   ]
  },
  {
   "cell_type": "code",
   "execution_count": 47,
   "id": "4f957c91-3f23-4446-882f-58acd3f58931",
   "metadata": {},
   "outputs": [
    {
     "data": {
      "text/plain": [
       "256"
      ]
     },
     "execution_count": 47,
     "metadata": {},
     "output_type": "execute_result"
    }
   ],
   "source": [
    "2**8"
   ]
  },
  {
   "cell_type": "code",
   "execution_count": 57,
   "id": "fb075782-109e-446c-9184-179b9b7fdcf5",
   "metadata": {},
   "outputs": [
    {
     "name": "stdout",
     "output_type": "stream",
     "text": [
      "2\n",
      "<class 'int'>\n",
      "4\n",
      "<class 'int'>\n",
      "6\n",
      "<class 'int'>\n",
      "8\n",
      "<class 'int'>\n",
      "10\n",
      "<class 'int'>\n",
      "shailesh\n",
      "<class 'str'>\n",
      "23.8\n",
      "<class 'float'>\n",
      "False\n",
      "<class 'bool'>\n",
      "ram\n",
      "<class 'str'>\n",
      "0\n",
      "<class 'int'>\n"
     ]
    }
   ],
   "source": [
    "#Q4. Create a list of length 10 of your choice containing multiple types of data. Using for loop print the\n",
    "#element and its data type.\n",
    "\n",
    "l1=[2,4,6,8,10,'shailesh',23.8,False,'ram',(0)]\n",
    "for i in l1:\n",
    "    print(i)\n",
    "    print(type(i))"
   ]
  },
  {
   "cell_type": "code",
   "execution_count": 89,
   "id": "9f001c9e-8fa0-4a40-953e-ac7c722877b3",
   "metadata": {},
   "outputs": [
    {
     "name": "stdout",
     "output_type": "stream",
     "text": [
      "a1 is divisible by b1: 2 times\n"
     ]
    }
   ],
   "source": [
    "#Q5. Using a while loop, verify if the number A is purely divisible by number B and if so then how many times\n",
    "a1 = 100\n",
    "b1 = 5\n",
    "\n",
    "count = 0\n",
    "\n",
    "while a1 % b1 == 0:\n",
    "    a1 = a1 / b1\n",
    "    count += 1\n",
    "if count>0:\n",
    "    print(\"a1 is divisible by b1:\", count, \"times\")\n",
    "else:\n",
    "    print(\"a1 is not divisible by b1\")"
   ]
  },
  {
   "cell_type": "code",
   "execution_count": 90,
   "id": "1102f9a6-3c91-4bc4-90db-f0a5a99579b5",
   "metadata": {},
   "outputs": [
    {
     "name": "stdout",
     "output_type": "stream",
     "text": [
      "2 is not divisible by 3\n",
      "5 is not divisible by 3\n",
      "12 is divisible by 3\n",
      "9 is divisible by 3\n",
      "8 is not divisible by 3\n",
      "18 is divisible by 3\n",
      "15 is divisible by 3\n",
      "7 is not divisible by 3\n",
      "6 is divisible by 3\n",
      "20 is not divisible by 3\n",
      "21 is divisible by 3\n",
      "3 is divisible by 3\n",
      "10 is not divisible by 3\n",
      "13 is not divisible by 3\n",
      "27 is divisible by 3\n",
      "30 is divisible by 3\n",
      "17 is not divisible by 3\n",
      "22 is not divisible by 3\n",
      "25 is not divisible by 3\n",
      "33 is divisible by 3\n",
      "36 is divisible by 3\n",
      "14 is not divisible by 3\n",
      "11 is not divisible by 3\n",
      "24 is divisible by 3\n",
      "31 is not divisible by 3\n"
     ]
    }
   ],
   "source": [
    "#Create a list containing 25 int type data. Using for loop and if-else condition print if the element is\n",
    "#divisible by 3 or not.\n",
    "\n",
    "data_list = [2, 5, 12, 9, 8, 18, 15, 7, 6, 20, 21, 3, 10, 13, 27, 30, 17, 22, 25, 33, 36, 14, 11, 24, 31]\n",
    "\n",
    "for num in data_list:\n",
    "    if num % 3 == 0:\n",
    "        print(num, \"is divisible by 3\")\n",
    "    else:\n",
    "        print(num, \"is not divisible by 3\")"
   ]
  },
  {
   "cell_type": "code",
   "execution_count": 94,
   "id": "c73dd41a-35b4-47a0-a758-9094cd14783e",
   "metadata": {},
   "outputs": [],
   "source": [
    "#Whatdo you understand about mutable and immutable data types? Give ex. for both showing this property.\n",
    "\n",
    "#immutability\n",
    "s1='shailesh'\n",
    "s1='bala'"
   ]
  },
  {
   "cell_type": "code",
   "execution_count": 92,
   "id": "0a04bd06-45b3-47c1-b7a1-db0816d80b3f",
   "metadata": {},
   "outputs": [
    {
     "data": {
      "text/plain": [
       "'bala'"
      ]
     },
     "execution_count": 92,
     "metadata": {},
     "output_type": "execute_result"
    }
   ],
   "source": [
    "s1"
   ]
  },
  {
   "cell_type": "code",
   "execution_count": 95,
   "id": "456d84bb-2c92-4174-914b-bb3466e17a32",
   "metadata": {},
   "outputs": [],
   "source": [
    "# a new string object is created with the modified value. The original string \"shailesh\" remains unchanged,\n",
    "#demonstrating the immutability of strings."
   ]
  },
  {
   "cell_type": "code",
   "execution_count": 96,
   "id": "c6fb36f0-9fc2-44f2-ab52-829b68b0810f",
   "metadata": {},
   "outputs": [],
   "source": [
    "#mutability\n",
    "\n",
    "l2=[2,3,5,6,1,8,9]"
   ]
  },
  {
   "cell_type": "code",
   "execution_count": 101,
   "id": "560ad244-1c82-4675-ac4b-970181778122",
   "metadata": {},
   "outputs": [],
   "source": [
    "l2[2]=200"
   ]
  },
  {
   "cell_type": "code",
   "execution_count": 102,
   "id": "f79bbd6e-a69c-4932-8309-64dfcbcaa5e1",
   "metadata": {},
   "outputs": [
    {
     "name": "stdout",
     "output_type": "stream",
     "text": [
      "[2, 3, 200, 6, 1, 8, 9]\n"
     ]
    }
   ],
   "source": [
    "print(l2)"
   ]
  },
  {
   "cell_type": "code",
   "execution_count": null,
   "id": "97615deb-8316-4631-bd83-cbedbf2c8367",
   "metadata": {},
   "outputs": [],
   "source": [
    "#in the above list we assign new value to index 2 ax 200 and replace 5 with 200\n",
    "# in list we can apply the  mutability but in sring we cannot apply the same "
   ]
  }
 ],
 "metadata": {
  "kernelspec": {
   "display_name": "Python 3 (ipykernel)",
   "language": "python",
   "name": "python3"
  },
  "language_info": {
   "codemirror_mode": {
    "name": "ipython",
    "version": 3
   },
   "file_extension": ".py",
   "mimetype": "text/x-python",
   "name": "python",
   "nbconvert_exporter": "python",
   "pygments_lexer": "ipython3",
   "version": "3.10.8"
  }
 },
 "nbformat": 4,
 "nbformat_minor": 5
}
