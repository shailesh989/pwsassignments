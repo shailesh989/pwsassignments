{
 "cells": [
  {
   "cell_type": "code",
   "execution_count": 5,
   "id": "562bdd78-c8ed-4ffe-a86a-8219836273e5",
   "metadata": {},
   "outputs": [
    {
     "data": {
      "text/plain": [
       "'this line representig multi line comment because it is not neccesarry to add # to every lines beggining, we just need to write in \\nin between \\nIt  worth noting that while multi-line comments are often used for documentation purposes,\\nthey are not considered true comments in Python. They are treated as string literals, \\nso they will be evaluated and stored in memory, even though their values are not used.'"
      ]
     },
     "execution_count": 5,
     "metadata": {},
     "output_type": "execute_result"
    }
   ],
   "source": [
    "#Q1. How do you comment code in Python? What are the different types of comments?\n",
    "\n",
    "\"\"\" Their is two type of comments in python one is single line comment and other is multiple line comment ,\n",
    "python interptreter cnnot read as code\"\"\"\n",
    "\n",
    "#I am writing this line is example single line comment using # in begging\n",
    "\n",
    "\"\"\"this line representig multi line comment because it is not neccesarry to add # to every lines beggining, we just need to write in \n",
    "in between \"\"\"  \"\"\"\n",
    "It  worth noting that while multi-line comments are often used for documentation purposes,\n",
    "they are not considered true comments in Python. They are treated as string literals, \n",
    "so they will be evaluated and stored in memory, even though their values are not used.\"\"\""
   ]
  },
  {
   "cell_type": "code",
   "execution_count": 6,
   "id": "10173a87-3e38-4ae7-a8e8-635344b68c0f",
   "metadata": {},
   "outputs": [],
   "source": [
    "#Q2 What are variables in Python? How do you declare and assign values to variables?\n",
    "#In Python, variables are used to store and refer to data values. \n",
    "#A variable is like a container that holds a value, and you can assign different types of values to variables \n",
    "#such as numbers, strings, lists, or more complex data structures.\n",
    "#Here's an example that declares a variable named message and assigns it a string value:\n",
    "\n",
    "# Integer variable\n",
    "age = 25\n",
    "\n",
    "# Floating-point variable\n",
    "f = 3.14\n",
    "\n",
    "# Boolean variable\n",
    "t= True\n",
    "\n",
    "# List variable\n",
    "numbers = [1, 2, 3, 4, 5]\n",
    "\n",
    "# Tuple variable\n",
    "l=('rahul','sanju',22,44,)\n",
    "# set variable\n",
    "S={1,1,1,2,2,3,3,6,6,7,4,8,8,5,(55,44)}\n",
    "\n",
    "# Dictionary variables\n",
    "\n",
    "D={'name':'Shailesh', 'work': 'study'}\n",
    "\n",
    "\n"
   ]
  },
  {
   "cell_type": "code",
   "execution_count": 8,
   "id": "ea61329d-7e7f-4519-9b1d-ba697d76875b",
   "metadata": {},
   "outputs": [],
   "source": [
    "#Q3 How do you convert one data type to another in Python?\n",
    "\n",
    "#In Python, you can convert one data type to another using type conversion functions or by using the target data type as a constructor.\n",
    "#Here are some common ways to perform type conversion in Python:\n",
    "#In Python, you can convert one data type to another using type conversion functions or by using the target data type as a constructor. Here are some common ways to perform type conversion in Python:\n",
    "\n",
    "#Integer to Float or String:\n",
    "\n",
    "#To convert an integer to a float, you can use the float() function:\n",
    "\n",
    "a= 5\n",
    "a1=str(a)\n",
    "#converts 5 into '5'\n",
    "#to convert string to integer we use int()\n",
    "i='55'\n",
    "i1=int(i)\n",
    "\n",
    "#converts '55' to 55\n",
    "#to convert int into float we just need to add float()\n",
    "\n",
    "p=5399\n",
    "p1=float(p)\n",
    "\n",
    "#converts 5399 to  5399.0\n",
    "\n",
    "# boolial to int \n",
    "r=True\n",
    "r1= int(r)\n",
    "\n",
    "#converts True into 1.\n"
   ]
  },
  {
   "cell_type": "code",
   "execution_count": 9,
   "id": "1ea16d56-41eb-4f62-8f2e-05b767660cad",
   "metadata": {},
   "outputs": [
    {
     "data": {
      "text/plain": [
       "'cd Documents'"
      ]
     },
     "execution_count": 9,
     "metadata": {},
     "output_type": "execute_result"
    }
   ],
   "source": [
    "# Q4 How do you write and execute a Python script from the command line?\n",
    "\n",
    "#To write and execute a Python script from the command line, you can follow these steps:\n",
    "\n",
    "\"\"\"Open a text editor of your choice \n",
    "(e.g., Notepad, Sublime Text, or Visual Studio Code) to write your Python script.\n",
    "\n",
    "Write your Python code in the text editor and save the file with a .py extension.\n",
    "For example, you can create a file called my_script.py and write your code in it.\"\"\"\n",
    "# my_script.py\n",
    "#print(\"shailesh\")\n",
    "\n",
    "\"\"\" 3. Open the command prompt or terminal on your computer.\n",
    "\n",
    "4. Navigate to the directory where you saved your Python script using the cd command.\n",
    "For example, if your script is saved in the Documents folder, you can navigate to it using the following command:\"\"\"\n",
    "\n",
    "'cd Documents'\n",
    "\n",
    "# 5 you can run the Python script by typing python followed by the name of your script file.\n",
    "\n",
    "#python my_script.py\n",
    "\n",
    "#The Python interpreter will execute your script, and you should see the output printed to the command prompt or terminal \n",
    "\n",
    "#shailesh"
   ]
  },
  {
   "cell_type": "code",
   "execution_count": 10,
   "id": "ddb4e116-ea21-4db2-99c7-3ac4286b903d",
   "metadata": {},
   "outputs": [],
   "source": [
    "#Q5. Given a list my_list = [1, 2, 3, 4, 5], write the code to slice the list and obtain the sub-list [2, 3].\n",
    "\n",
    "my_list=[1,2,3,4,5,]"
   ]
  },
  {
   "cell_type": "code",
   "execution_count": 11,
   "id": "644adcc6-25c1-43a5-82a6-a6a2bc9e036e",
   "metadata": {},
   "outputs": [],
   "source": [
    "sub_list=my_list[1:3]"
   ]
  },
  {
   "cell_type": "code",
   "execution_count": 12,
   "id": "76d9e151-6617-4241-acbb-62de0274915d",
   "metadata": {},
   "outputs": [
    {
     "data": {
      "text/plain": [
       "[2, 3]"
      ]
     },
     "execution_count": 12,
     "metadata": {},
     "output_type": "execute_result"
    }
   ],
   "source": [
    "sub_list"
   ]
  },
  {
   "cell_type": "code",
   "execution_count": 13,
   "id": "2d86b047-08f4-463f-9fbc-e2955a790d4d",
   "metadata": {},
   "outputs": [
    {
     "data": {
      "text/plain": [
       "2.0"
      ]
     },
     "execution_count": 13,
     "metadata": {},
     "output_type": "execute_result"
    }
   ],
   "source": [
    "#Q6. What is a complex number in mathematics, and how is it represented in Python?\n",
    "#n mathematics, a complex number is a number of the form \"a + bi\", where \n",
    "#\"a\" and \"b\" are real numbers, and \"i\" is the imaginary unit defined as the square root of -1. The real part, \"a\",\n",
    "#represents the horizontal axis on the complex plane, while the imaginary part, \"b\", represents the vertical axis.\n",
    "\n",
    "#In Python, complex numbers can be represented using the built-in complex class.\n",
    "#You can create a complex number by using the syntax a + bj, where a is the real part and b is the imaginary part.\n",
    "#Here's an example:\n",
    "c= 2 + 5j\n",
    "c.real\n"
   ]
  },
  {
   "cell_type": "code",
   "execution_count": 14,
   "id": "d5c25c1d-50fb-4bb8-90ab-3166cc2dc432",
   "metadata": {},
   "outputs": [
    {
     "data": {
      "text/plain": [
       "2.0"
      ]
     },
     "execution_count": 14,
     "metadata": {},
     "output_type": "execute_result"
    }
   ],
   "source": [
    "c.real"
   ]
  },
  {
   "cell_type": "code",
   "execution_count": 17,
   "id": "c753ba13-651f-45f9-b883-2b7299128762",
   "metadata": {},
   "outputs": [],
   "source": [
    "# Q7. What is the correct way to declare a variable named age and assign the value 25 to it?\n",
    "# for declare a variable name, age and assigned value for we used dictionary\n",
    "\n",
    "#In Python, you can declare a variable named age and assign the value 25 to it using the following syntax:\n",
    "age=25"
   ]
  },
  {
   "cell_type": "code",
   "execution_count": 18,
   "id": "cce53f0f-8f26-4829-9c21-7bdfdd8ccddb",
   "metadata": {},
   "outputs": [
    {
     "data": {
      "text/plain": [
       "25"
      ]
     },
     "execution_count": 18,
     "metadata": {},
     "output_type": "execute_result"
    }
   ],
   "source": [
    "age"
   ]
  },
  {
   "cell_type": "code",
   "execution_count": 19,
   "id": "1e1b199e-723d-4976-ab12-8b2f95e17c78",
   "metadata": {},
   "outputs": [],
   "source": [
    "#Q8. Declare a variable named price and assign the value 9.99 to it. What data type does this variable\n",
    "#belong to?\n",
    "price=9.99\n",
    "#type is floating"
   ]
  },
  {
   "cell_type": "code",
   "execution_count": 20,
   "id": "ba8b81b0-3cf3-4ff4-b72b-5093d776f022",
   "metadata": {},
   "outputs": [
    {
     "data": {
      "text/plain": [
       "float"
      ]
     },
     "execution_count": 20,
     "metadata": {},
     "output_type": "execute_result"
    }
   ],
   "source": [
    "type(price)"
   ]
  },
  {
   "cell_type": "code",
   "execution_count": 25,
   "id": "1e88953d-14d8-425f-81c3-144960ed8b01",
   "metadata": {},
   "outputs": [],
   "source": [
    "#Q9. Create a variable named name and assign your full name to it as a string. How would you print the\n",
    "#value of this variable?\n",
    "name= 'shailesh babulal pawar'"
   ]
  },
  {
   "cell_type": "code",
   "execution_count": 34,
   "id": "65b1a9b8-271b-4ae5-9524-696d9685fb42",
   "metadata": {},
   "outputs": [
    {
     "name": "stdout",
     "output_type": "stream",
     "text": [
      "shailesh babulal pawar\n"
     ]
    }
   ],
   "source": [
    "print(name)\n",
    "#by giving print(name) commad we print the value of variable"
   ]
  },
  {
   "cell_type": "code",
   "execution_count": 35,
   "id": "fc013aa7-487a-417e-8e12-9c6cae6a9415",
   "metadata": {},
   "outputs": [],
   "source": [
    "#Q10. Given the string \"Hello, World!\", extract the substring \"World\".\n",
    "#w= \"hello,world!\""
   ]
  },
  {
   "cell_type": "code",
   "execution_count": 36,
   "id": "43c53af6-2eeb-4c6e-80ed-736578c2bbba",
   "metadata": {},
   "outputs": [
    {
     "name": "stdout",
     "output_type": "stream",
     "text": [
      "World\n"
     ]
    }
   ],
   "source": [
    "w = \"Hello, World!\"\n",
    "substring = w[7:12]\n",
    "print(substring)"
   ]
  },
  {
   "cell_type": "code",
   "execution_count": null,
   "id": "8b83b116-2d64-4323-95d5-72c5c0c275ae",
   "metadata": {},
   "outputs": [],
   "source": [
    "# Thank You....."
   ]
  }
 ],
 "metadata": {
  "kernelspec": {
   "display_name": "Python 3 (ipykernel)",
   "language": "python",
   "name": "python3"
  },
  "language_info": {
   "codemirror_mode": {
    "name": "ipython",
    "version": 3
   },
   "file_extension": ".py",
   "mimetype": "text/x-python",
   "name": "python",
   "nbconvert_exporter": "python",
   "pygments_lexer": "ipython3",
   "version": "3.10.8"
  }
 },
 "nbformat": 4,
 "nbformat_minor": 5
}
