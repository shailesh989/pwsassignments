{
 "cells": [
  {
   "cell_type": "code",
   "execution_count": 1,
   "id": "f8bf4528-b690-4355-89c5-ff5b962b94fe",
   "metadata": {},
   "outputs": [],
   "source": [
    "#oops task assignment"
   ]
  },
  {
   "cell_type": "code",
   "execution_count": 2,
   "id": "ad280ffe-aba9-4a03-aa5b-17a8a2d72d93",
   "metadata": {},
   "outputs": [],
   "source": [
    "#Q1, Create a vehicle class with an init method having instance variables as name_of_vehicle, max_speed\n",
    "#and average_of_vehicle.\n",
    "\n",
    "#ANS.\n",
    "class vehicle():\n",
    "    def __init__(self,name,speed,average):\n",
    "        self.name_of_vehicle = name\n",
    "        self.max_speed = speed\n",
    "        self.average_of_vehicle = average\n",
    "        \n",
    "        def details_of_vehicle(self):\n",
    "            return(self.name_of_vehicle,self.max_speed,self.average_of_vehicle)\n"
   ]
  },
  {
   "cell_type": "code",
   "execution_count": 3,
   "id": "fa66777d-0ec5-4471-9add-f2605ecf1176",
   "metadata": {},
   "outputs": [],
   "source": [
    "veehicle = vehicle('fortuner',180,28)"
   ]
  },
  {
   "cell_type": "code",
   "execution_count": 4,
   "id": "5633d78f-5016-4dce-b166-b442571e6062",
   "metadata": {},
   "outputs": [
    {
     "data": {
      "text/plain": [
       "180"
      ]
     },
     "execution_count": 4,
     "metadata": {},
     "output_type": "execute_result"
    }
   ],
   "source": [
    "veehicle.max_speed"
   ]
  },
  {
   "cell_type": "code",
   "execution_count": 5,
   "id": "8a517ee6-46b8-4afb-b855-0249b879d530",
   "metadata": {},
   "outputs": [
    {
     "data": {
      "text/plain": [
       "'fortuner'"
      ]
     },
     "execution_count": 5,
     "metadata": {},
     "output_type": "execute_result"
    }
   ],
   "source": [
    "veehicle.name_of_vehicle"
   ]
  },
  {
   "cell_type": "code",
   "execution_count": 6,
   "id": "91f98bba-400d-4002-b365-578753891720",
   "metadata": {},
   "outputs": [
    {
     "data": {
      "text/plain": [
       "28"
      ]
     },
     "execution_count": 6,
     "metadata": {},
     "output_type": "execute_result"
    }
   ],
   "source": [
    "veehicle.average_of_vehicle"
   ]
  },
  {
   "cell_type": "code",
   "execution_count": 7,
   "id": "bac170a4-c5e6-4c5c-8eb2-f9b3ccbdded1",
   "metadata": {},
   "outputs": [],
   "source": [
    "#Q2. Create a child class car from the vehicle class created in Que 1, which will inherit the vehicle class.\n",
    "#Create a method named seating_capacity which takes capacity as an argument and returns the name of\n",
    "#the vehicle and its seating capacity.\n",
    "class car(vehicle):\n",
    "    def seating_capacity(self,capacity):\n",
    "        self.seating_capacity = capacity\n",
    "        return self.seating_capacity\n",
    "    "
   ]
  },
  {
   "cell_type": "code",
   "execution_count": 8,
   "id": "4398121b-8fe7-40b5-a3ce-6d6fc16c88a2",
   "metadata": {},
   "outputs": [],
   "source": [
    "car1=car('fortuner',180,28,)"
   ]
  },
  {
   "cell_type": "code",
   "execution_count": 9,
   "id": "475ec1ca-3ca6-4ad5-978e-49ef880e53bc",
   "metadata": {},
   "outputs": [
    {
     "data": {
      "text/plain": [
       "10"
      ]
     },
     "execution_count": 9,
     "metadata": {},
     "output_type": "execute_result"
    }
   ],
   "source": [
    "car1.seating_capacity(10)"
   ]
  },
  {
   "cell_type": "code",
   "execution_count": 10,
   "id": "8cacc2a7-3d1a-420b-aa21-4f080e84ec55",
   "metadata": {},
   "outputs": [
    {
     "data": {
      "text/plain": [
       "'fortuner'"
      ]
     },
     "execution_count": 10,
     "metadata": {},
     "output_type": "execute_result"
    }
   ],
   "source": [
    "car1.name_of_vehicle"
   ]
  },
  {
   "cell_type": "code",
   "execution_count": 17,
   "id": "e16b176b-65d4-4384-aa02-7f5069e15476",
   "metadata": {},
   "outputs": [],
   "source": [
    "#Q3. What is multiple inheritance? Write a python code to demonstrate multiple inheritance.\n",
    "\n",
    "class class1():\n",
    "    def test_class1(self):\n",
    "        return 'im cool'\n",
    "    \n",
    "class class2():\n",
    "    def test_class2(self):\n",
    "        return ' im not so cool'\n",
    "    \n",
    "class class3(class1,class2):\n",
    "    pass\n",
    " \n",
    "    \n",
    "obj_class3= class3()"
   ]
  },
  {
   "cell_type": "code",
   "execution_count": 18,
   "id": "2938d07f-a94e-411d-8f33-6354d1332b7c",
   "metadata": {},
   "outputs": [
    {
     "data": {
      "text/plain": [
       "'im cool'"
      ]
     },
     "execution_count": 18,
     "metadata": {},
     "output_type": "execute_result"
    }
   ],
   "source": [
    "obj_class3.test_class1()"
   ]
  },
  {
   "cell_type": "code",
   "execution_count": 19,
   "id": "bcc10d23-7434-40c6-a6cc-166d0afa2288",
   "metadata": {},
   "outputs": [
    {
     "data": {
      "text/plain": [
       "' im not so cool'"
      ]
     },
     "execution_count": 19,
     "metadata": {},
     "output_type": "execute_result"
    }
   ],
   "source": [
    "obj_class3.test_class2()"
   ]
  },
  {
   "cell_type": "code",
   "execution_count": 20,
   "id": "37a3280c-eb0a-4f92-a617-4a3d3ed90c7f",
   "metadata": {},
   "outputs": [],
   "source": [
    "#Q4. What are getter and setter in python? Create a class and create a getter and a setter method in this\n",
    "#class.\n",
    "class car:\n",
    "    \n",
    "    def __init__(self, year,make,tyre,speed):\n",
    "        self.__year = year\n",
    "        self.__make = make\n",
    "        self.__tyre=tyre\n",
    "        self.__speed= 0\n",
    "        \n",
    "    def set_speed(self,speed):\n",
    "        self.__speed= 0 if speed <0 else speed\n",
    "    \n",
    "    def get_speed(self):\n",
    "        return self.__speed"
   ]
  },
  {
   "cell_type": "code",
   "execution_count": 21,
   "id": "87c02dfc-b8a0-4fa2-85a2-826bb5f55d3d",
   "metadata": {},
   "outputs": [],
   "source": [
    "obj_car=car(2021,'maruti','mrf',220)"
   ]
  },
  {
   "cell_type": "code",
   "execution_count": 22,
   "id": "7c174f4f-ee48-4985-8ff0-521ec06ce1ea",
   "metadata": {},
   "outputs": [
    {
     "data": {
      "text/plain": [
       "0"
      ]
     },
     "execution_count": 22,
     "metadata": {},
     "output_type": "execute_result"
    }
   ],
   "source": [
    "obj_car.get_speed()"
   ]
  },
  {
   "cell_type": "code",
   "execution_count": 24,
   "id": "0f0ed3d1-e1b4-4ce5-ac10-6d74865b2a9a",
   "metadata": {},
   "outputs": [],
   "source": [
    "obj_car.set_speed(85)"
   ]
  },
  {
   "cell_type": "code",
   "execution_count": 26,
   "id": "005e7d2d-223e-4829-8825-65aef0dd39d2",
   "metadata": {},
   "outputs": [
    {
     "data": {
      "text/plain": [
       "85"
      ]
     },
     "execution_count": 26,
     "metadata": {},
     "output_type": "execute_result"
    }
   ],
   "source": [
    "obj_car.get_speed()"
   ]
  },
  {
   "cell_type": "code",
   "execution_count": 30,
   "id": "3e49c347-cee0-43e6-9dc0-413a201325ca",
   "metadata": {},
   "outputs": [
    {
     "data": {
      "text/plain": [
       "'Method overriding in Python occurs when a subclass defines a method with the same name as a method in its superclass. \\nThe purpose of method overriding is to provide a different implementation of the method in the subclass,\\nthereby modifying the behavior inherited from the superclass.\\nThis allows the subclass to customize or extend the functionality of the inherited method'"
      ]
     },
     "execution_count": 30,
     "metadata": {},
     "output_type": "execute_result"
    }
   ],
   "source": [
    "#Q5.What is method overriding in python? Write a python code to demonstrate method overriding.\n",
    "class Shape:\n",
    "    def area(self):\n",
    "        print(\"Calculating area in Shape class\")\n",
    "\n",
    "class Rectangle(Shape):\n",
    "    def area(self):\n",
    "        print(\"Calculating area in Rectangle class\")\n",
    "\n",
    "class Circle(Shape):\n",
    "    def area(self):\n",
    "        print(\"Calculating area in Circle class\")\n",
    "\n",
    "# Create instances of the subclasses\n",
    "rectangle = Rectangle()\n",
    "circle = Circle()\n",
    "\n",
    "'''Method overriding in Python occurs when a subclass defines a method with the same name as a method in its superclass. \n",
    "The purpose of method overriding is to provide a different implementation of the method in the subclass,\n",
    "thereby modifying the behavior inherited from the superclass.\n",
    "This allows the subclass to customize or extend the functionality of the inherited method'''"
   ]
  },
  {
   "cell_type": "code",
   "execution_count": 28,
   "id": "29f836c8-bca9-45e1-be5c-cea8e7d4e99f",
   "metadata": {},
   "outputs": [
    {
     "name": "stdout",
     "output_type": "stream",
     "text": [
      "Calculating area in Rectangle class\n"
     ]
    }
   ],
   "source": [
    "rectangle.area() "
   ]
  },
  {
   "cell_type": "code",
   "execution_count": 29,
   "id": "5a97c49c-069c-407e-893b-c8a44e0ff37b",
   "metadata": {},
   "outputs": [
    {
     "name": "stdout",
     "output_type": "stream",
     "text": [
      "Calculating area in Circle class\n"
     ]
    }
   ],
   "source": [
    "circle.area()     "
   ]
  },
  {
   "cell_type": "code",
   "execution_count": null,
   "id": "53e7922c-7d5d-49e5-8223-880d3c53c5c1",
   "metadata": {},
   "outputs": [],
   "source": []
  }
 ],
 "metadata": {
  "kernelspec": {
   "display_name": "Python 3 (ipykernel)",
   "language": "python",
   "name": "python3"
  },
  "language_info": {
   "codemirror_mode": {
    "name": "ipython",
    "version": 3
   },
   "file_extension": ".py",
   "mimetype": "text/x-python",
   "name": "python",
   "nbconvert_exporter": "python",
   "pygments_lexer": "ipython3",
   "version": "3.10.8"
  }
 },
 "nbformat": 4,
 "nbformat_minor": 5
}
