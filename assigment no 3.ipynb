{
 "cells": [
  {
   "cell_type": "code",
   "execution_count": 1,
   "id": "48743aec-9559-4ad9-9eb9-5e3b55a31126",
   "metadata": {},
   "outputs": [
    {
     "name": "stdout",
     "output_type": "stream",
     "text": [
      "[1, 3, 5, 7, 9, 11, 13, 15, 17, 19, 21, 23]\n"
     ]
    }
   ],
   "source": [
    "#Q1. Which keyword is used to create a function? Create a function to return a list of odd numbers in the\n",
    "#range of 1 to 25.\n",
    "\n",
    "# def keyword is used to create a function\n",
    "\n",
    "def odd25():\n",
    "    l1=[]\n",
    "    for i in range(25):\n",
    "        if i % 2 !=0:\n",
    "            l1.append(i)\n",
    "    return l1\n",
    "odd=odd25()\n",
    "print(odd)"
   ]
  },
  {
   "cell_type": "code",
   "execution_count": 2,
   "id": "5d41b9ef-d19d-43dc-b40f-b643f9af4194",
   "metadata": {},
   "outputs": [],
   "source": [
    "# Q2 Why *args and **kwargs is used in some functions? Create a function each for *args and **kwargs\n",
    "# to demonstrate their use."
   ]
  },
  {
   "cell_type": "code",
   "execution_count": 3,
   "id": "306f7c07-41da-4d9d-bb85-643f6fe53cea",
   "metadata": {},
   "outputs": [],
   "source": [
    "#The *args parameter allows a function to accept any number of positional arguments. \n",
    "#It collects all the positional arguments passed to the function into a tuple. \n",
    "#This is useful when you don't know in advance how many arguments will be passed.\n",
    "\n",
    "def multi(*arg):\n",
    "    return arg"
   ]
  },
  {
   "cell_type": "code",
   "execution_count": 4,
   "id": "7484106c-dd35-411e-94c9-0739bf08943b",
   "metadata": {},
   "outputs": [
    {
     "data": {
      "text/plain": [
       "('ram', 5, 4, 3, 2, 11, 'kohinoor')"
      ]
     },
     "execution_count": 4,
     "metadata": {},
     "output_type": "execute_result"
    }
   ],
   "source": [
    "multi('ram',5,4,3,2,11,'kohinoor')"
   ]
  },
  {
   "cell_type": "code",
   "execution_count": 5,
   "id": "2f0e4498-0ff8-48fd-9fee-146837e4a83e",
   "metadata": {},
   "outputs": [],
   "source": [
    "def keyvalue(**kwarg):\n",
    "    return kwarg"
   ]
  },
  {
   "cell_type": "code",
   "execution_count": 6,
   "id": "1a5c9569-5094-4510-af6d-1ac04e540328",
   "metadata": {},
   "outputs": [
    {
     "data": {
      "text/plain": [
       "{'name': 'shailesh', 'work': 'studet', 'age': '25'}"
      ]
     },
     "execution_count": 6,
     "metadata": {},
     "output_type": "execute_result"
    }
   ],
   "source": [
    "keyvalue(name='shailesh',work='studet',age='25')"
   ]
  },
  {
   "cell_type": "code",
   "execution_count": 7,
   "id": "b73bfd73-8074-4743-8292-c90e401b5f4c",
   "metadata": {},
   "outputs": [
    {
     "name": "stdout",
     "output_type": "stream",
     "text": [
      "2\n",
      "4\n",
      "6\n",
      "8\n",
      "10\n"
     ]
    },
    {
     "data": {
      "text/plain": [
       "'in the above example, we first create an iterator object by calling iter(l1). \\nThen, we use a for loop and the next() function to iterate over the iterator. \\nThe next() function retrieves the next element from the iterator,and we print it.\\nWe repeat this process five times to print the first five elements of the list.'"
      ]
     },
     "execution_count": 7,
     "metadata": {},
     "output_type": "execute_result"
    }
   ],
   "source": [
    "# Q3 What is an iterator in python? Name the method used to initialise the iterator object and the method\n",
    "#used for iteration. Use these methods to print the first five elements of the given list [2, 4, 6, 8, 10, 12, 14,\n",
    "# 16, 18, 20]\n",
    "\n",
    "\n",
    "#In Python, an iterator is an object that implements the iterator protocol,which consists of the __iter__() and __next__() methods.\n",
    "#It allows you to iterate over a sequence of elements, such as a list, one item at a time.\n",
    "#The __iter__() method is used to initialize an iterator object. It returns the iterator object itself.\n",
    "\n",
    "l1 = [2, 4, 6, 8, 10, 12, 14, 16, 18, 20]\n",
    "l2 = iter(l1) \n",
    "\n",
    "for i in range(5):\n",
    "    i = next(l2)\n",
    "    print(i)\n",
    "    \n",
    "\"\"\"in the above example, we first create an iterator object by calling iter(l1). \n",
    "Then, we use a for loop and the next() function to iterate over the iterator. \n",
    "The next() function retrieves the next element from the iterator,and we print it.\n",
    "We repeat this process five times to print the first five elements of the list.\"\"\""
   ]
  },
  {
   "cell_type": "code",
   "execution_count": 8,
   "id": "35d194e1-4916-4d14-9b70-519a4284573c",
   "metadata": {},
   "outputs": [],
   "source": [
    "#Q4. What is a generator function in python? Why yield keyword is used? Give an example of a generator\n",
    "#function.\n",
    "\n",
    "#In Python, a generator function is a special type of function that returns an iterator, \n",
    "#which can be iterated over to retrieve values one at a time.\n",
    "\n",
    "#The yield keyword is used in generator functions to define one or more points at \n",
    "#which the function should pause and yield a value to the caller.\n"
   ]
  },
  {
   "cell_type": "code",
   "execution_count": 9,
   "id": "15d276ab-54f6-4b2d-b096-8d7d01eee388",
   "metadata": {},
   "outputs": [],
   "source": [
    "def even_numbers(n):\n",
    "    i = 0\n",
    "    while i <= n:\n",
    "        yield 2 * i\n",
    "        i += 1\n"
   ]
  },
  {
   "cell_type": "code",
   "execution_count": 10,
   "id": "d710b120-3632-4893-b049-b5d648b78080",
   "metadata": {},
   "outputs": [
    {
     "name": "stdout",
     "output_type": "stream",
     "text": [
      "0\n",
      "2\n",
      "4\n",
      "6\n",
      "8\n",
      "10\n"
     ]
    }
   ],
   "source": [
    "for i in even_numbers(5):\n",
    "    print(i)"
   ]
  },
  {
   "cell_type": "code",
   "execution_count": 11,
   "id": "30eac5d9-f73d-45be-ac44-de2c27c6eb8d",
   "metadata": {},
   "outputs": [],
   "source": [
    "even=even_numbers(5)"
   ]
  },
  {
   "cell_type": "code",
   "execution_count": 12,
   "id": "e217fe9d-6858-46e0-b5a8-069217a6c4e9",
   "metadata": {},
   "outputs": [
    {
     "name": "stdout",
     "output_type": "stream",
     "text": [
      "0\n",
      "2\n",
      "4\n",
      "6\n",
      "8\n"
     ]
    }
   ],
   "source": [
    "for i in range(5):\n",
    "    print(next(even))"
   ]
  },
  {
   "cell_type": "code",
   "execution_count": 13,
   "id": "e1e28006-9844-41af-8045-07a9e7a76e3c",
   "metadata": {},
   "outputs": [
    {
     "name": "stdout",
     "output_type": "stream",
     "text": [
      "10\n"
     ]
    }
   ],
   "source": [
    "print(next(even))"
   ]
  },
  {
   "cell_type": "code",
   "execution_count": 14,
   "id": "1b146d37-02a7-453c-b53a-501430d5e07b",
   "metadata": {},
   "outputs": [],
   "source": [
    "#. Create a generator function for prime numbers less than 1000. Use the next() method to print the\n",
    "#first 20 prime numbers.\n",
    "\n",
    "def prime_generator():\n",
    "    primes = []\n",
    "    num = 2\n",
    "    while True:\n",
    "        if all(num % prime != 0 for prime in primes):\n",
    "            primes.append(num)\n",
    "            yield num\n",
    "        num += 1\n",
    "        \n",
    "\n",
    "# Using the generator function\n",
    "generator = prime_generator()\n"
   ]
  },
  {
   "cell_type": "code",
   "execution_count": 15,
   "id": "9b95d8ae-55b0-4d53-b617-52bc0efcef03",
   "metadata": {},
   "outputs": [
    {
     "name": "stdout",
     "output_type": "stream",
     "text": [
      "2\n",
      "3\n",
      "5\n",
      "7\n",
      "11\n",
      "13\n",
      "17\n",
      "19\n",
      "23\n",
      "29\n",
      "31\n",
      "37\n",
      "41\n",
      "43\n",
      "47\n",
      "53\n",
      "59\n",
      "61\n",
      "67\n",
      "71\n"
     ]
    }
   ],
   "source": [
    "# Printing the first 20 prime numbers\n",
    "for _ in range(20):\n",
    "    print(next(generator))"
   ]
  },
  {
   "cell_type": "code",
   "execution_count": 16,
   "id": "3b0993df-8827-4528-9ee2-5d355c1a32e5",
   "metadata": {},
   "outputs": [],
   "source": [
    "#Q6. Write a python program to print the first 10 Fibonacci numbers using a while loop.\n",
    "\n",
    "def fibbonnaci(n):\n",
    "    a,b = 0,1\n",
    "    while True: \n",
    "        yield a\n",
    "        a,b = b , a+b\n",
    "    \n",
    "            "
   ]
  },
  {
   "cell_type": "code",
   "execution_count": 17,
   "id": "eaa2aada-a23b-476c-b940-a373e82daf3f",
   "metadata": {},
   "outputs": [],
   "source": [
    "fibb=fibbonnaci(10)"
   ]
  },
  {
   "cell_type": "code",
   "execution_count": 18,
   "id": "62d8bfcb-aa63-40f0-b295-8361eb7b045e",
   "metadata": {},
   "outputs": [
    {
     "name": "stdout",
     "output_type": "stream",
     "text": [
      "0\n",
      "1\n",
      "1\n",
      "2\n",
      "3\n",
      "5\n",
      "8\n",
      "13\n",
      "21\n",
      "34\n"
     ]
    }
   ],
   "source": [
    "for i in range(10):\n",
    "    print(next(fibb))"
   ]
  },
  {
   "cell_type": "code",
   "execution_count": 19,
   "id": "98b43e9f-367e-412f-bd20-23778223c6fe",
   "metadata": {},
   "outputs": [
    {
     "data": {
      "text/plain": [
       "['P', 'W', 'S', 'K', 'I', 'L', 'L', 'S']"
      ]
     },
     "execution_count": 19,
     "metadata": {},
     "output_type": "execute_result"
    }
   ],
   "source": [
    "#Q7. Write a List Comprehension to iterate through the given string: ‘pwskills’.\n",
    "\n",
    "#Expected output: ['p', 'w', 's', 'k', 'i', 'l', 'l', 's']\n",
    "\n",
    "\n",
    "l4='pwskills'\n",
    "list(map(lambda l : l.upper(), l4))"
   ]
  },
  {
   "cell_type": "code",
   "execution_count": 20,
   "id": "73d86892-1061-4981-99c7-25eb75412dd2",
   "metadata": {},
   "outputs": [
    {
     "name": "stdin",
     "output_type": "stream",
     "text": [
      "Enter a number:  5\n"
     ]
    },
    {
     "name": "stdout",
     "output_type": "stream",
     "text": [
      "5 is a palindrome\n"
     ]
    }
   ],
   "source": [
    "#Write a python program to check whether a given number is Palindrome or not using a while loop.\n",
    "\n",
    "def is_palindrome(number):\n",
    "    original_number = number\n",
    "    reversed_number = 0\n",
    "    \n",
    "    while number > 0:\n",
    "        digit = number % 10\n",
    "        reversed_number = (reversed_number * 10) + digit\n",
    "        number = number // 10\n",
    "    \n",
    "    if original_number == reversed_number:\n",
    "        return True\n",
    "    else:\n",
    "        return False\n",
    "\n",
    "\n",
    "# Test the function\n",
    "num = int(input(\"Enter a number: \"))\n",
    "\n",
    "if is_palindrome(num):\n",
    "    print(num, \"is a palindrome\")\n",
    "else:\n",
    "    print(num, \"is not a palindrome\")"
   ]
  },
  {
   "cell_type": "code",
   "execution_count": 21,
   "id": "93af66d1-04bd-414c-8f79-66b3c4837194",
   "metadata": {},
   "outputs": [],
   "source": [
    "#Q9. Write a code to print odd numbers from 1 to 100 using list comprehension.\n",
    "\n",
    "#Note: Use a list comprehension to create a list from 1 to 100 and use another List comprehension to filter\n",
    "#out odd numbers.\n",
    "l6=[i for i in range(1,100)]"
   ]
  },
  {
   "cell_type": "code",
   "execution_count": 22,
   "id": "aba0af82-6cd3-4d3e-a5a2-325758e8f665",
   "metadata": {},
   "outputs": [
    {
     "name": "stdout",
     "output_type": "stream",
     "text": [
      "[1, 2, 3, 4, 5, 6, 7, 8, 9, 10, 11, 12, 13, 14, 15, 16, 17, 18, 19, 20, 21, 22, 23, 24, 25, 26, 27, 28, 29, 30, 31, 32, 33, 34, 35, 36, 37, 38, 39, 40, 41, 42, 43, 44, 45, 46, 47, 48, 49, 50, 51, 52, 53, 54, 55, 56, 57, 58, 59, 60, 61, 62, 63, 64, 65, 66, 67, 68, 69, 70, 71, 72, 73, 74, 75, 76, 77, 78, 79, 80, 81, 82, 83, 84, 85, 86, 87, 88, 89, 90, 91, 92, 93, 94, 95, 96, 97, 98, 99]\n"
     ]
    }
   ],
   "source": [
    "print(l6)"
   ]
  },
  {
   "cell_type": "code",
   "execution_count": 26,
   "id": "5b2cb6da-7352-4e31-bdf5-ec3b2b0a1c71",
   "metadata": {},
   "outputs": [],
   "source": [
    "l7=list(filter(lambda x : x%2!=0 , l6))"
   ]
  },
  {
   "cell_type": "code",
   "execution_count": 27,
   "id": "57320329-8cc0-48f8-a581-a2c9f6d445a8",
   "metadata": {},
   "outputs": [
    {
     "name": "stdout",
     "output_type": "stream",
     "text": [
      "[1, 3, 5, 7, 9, 11, 13, 15, 17, 19, 21, 23, 25, 27, 29, 31, 33, 35, 37, 39, 41, 43, 45, 47, 49, 51, 53, 55, 57, 59, 61, 63, 65, 67, 69, 71, 73, 75, 77, 79, 81, 83, 85, 87, 89, 91, 93, 95, 97, 99]\n"
     ]
    }
   ],
   "source": [
    "print(l7)"
   ]
  },
  {
   "cell_type": "code",
   "execution_count": null,
   "id": "6cf37b9b-763d-4291-ba2e-ff4ef0bf5dbc",
   "metadata": {},
   "outputs": [],
   "source": []
  }
 ],
 "metadata": {
  "kernelspec": {
   "display_name": "Python 3 (ipykernel)",
   "language": "python",
   "name": "python3"
  },
  "language_info": {
   "codemirror_mode": {
    "name": "ipython",
    "version": 3
   },
   "file_extension": ".py",
   "mimetype": "text/x-python",
   "name": "python",
   "nbconvert_exporter": "python",
   "pygments_lexer": "ipython3",
   "version": "3.10.8"
  }
 },
 "nbformat": 4,
 "nbformat_minor": 5
}
